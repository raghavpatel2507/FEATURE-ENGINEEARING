{
 "cells": [
  {
   "cell_type": "markdown",
   "id": "eebb7bd0-dac5-4acd-a6b0-340befdc1ee3",
   "metadata": {},
   "source": [
    "# Nominal/OHE-ENCODING"
   ]
  },
  {
   "cell_type": "code",
   "execution_count": 1,
   "id": "675aefb9-5f78-43ff-b709-66f6d54480d8",
   "metadata": {},
   "outputs": [],
   "source": [
    "import pandas as pd\n",
    "from sklearn.preprocessing import OneHotEncoder"
   ]
  },
  {
   "cell_type": "code",
   "execution_count": 2,
   "id": "6ea621d7-df9d-448e-99d3-6e748c6a17d9",
   "metadata": {},
   "outputs": [],
   "source": [
    "df=pd.DataFrame({'color':['red','blue','white','red','white','blue']})"
   ]
  },
  {
   "cell_type": "code",
   "execution_count": 3,
   "id": "6c934e5a-ec46-4d4a-a216-e47f570eaab5",
   "metadata": {},
   "outputs": [
    {
     "data": {
      "text/html": [
       "<div>\n",
       "<style scoped>\n",
       "    .dataframe tbody tr th:only-of-type {\n",
       "        vertical-align: middle;\n",
       "    }\n",
       "\n",
       "    .dataframe tbody tr th {\n",
       "        vertical-align: top;\n",
       "    }\n",
       "\n",
       "    .dataframe thead th {\n",
       "        text-align: right;\n",
       "    }\n",
       "</style>\n",
       "<table border=\"1\" class=\"dataframe\">\n",
       "  <thead>\n",
       "    <tr style=\"text-align: right;\">\n",
       "      <th></th>\n",
       "      <th>color</th>\n",
       "    </tr>\n",
       "  </thead>\n",
       "  <tbody>\n",
       "    <tr>\n",
       "      <th>0</th>\n",
       "      <td>red</td>\n",
       "    </tr>\n",
       "    <tr>\n",
       "      <th>1</th>\n",
       "      <td>blue</td>\n",
       "    </tr>\n",
       "    <tr>\n",
       "      <th>2</th>\n",
       "      <td>white</td>\n",
       "    </tr>\n",
       "    <tr>\n",
       "      <th>3</th>\n",
       "      <td>red</td>\n",
       "    </tr>\n",
       "    <tr>\n",
       "      <th>4</th>\n",
       "      <td>white</td>\n",
       "    </tr>\n",
       "    <tr>\n",
       "      <th>5</th>\n",
       "      <td>blue</td>\n",
       "    </tr>\n",
       "  </tbody>\n",
       "</table>\n",
       "</div>"
      ],
      "text/plain": [
       "   color\n",
       "0    red\n",
       "1   blue\n",
       "2  white\n",
       "3    red\n",
       "4  white\n",
       "5   blue"
      ]
     },
     "execution_count": 3,
     "metadata": {},
     "output_type": "execute_result"
    }
   ],
   "source": [
    "df"
   ]
  },
  {
   "cell_type": "code",
   "execution_count": 4,
   "id": "3a975cef-0298-4681-95b6-c9cf857553ff",
   "metadata": {},
   "outputs": [],
   "source": [
    "encoder=OneHotEncoder()"
   ]
  },
  {
   "cell_type": "code",
   "execution_count": 7,
   "id": "931404cf-bd45-4bbe-a717-f24690a36dbd",
   "metadata": {},
   "outputs": [],
   "source": [
    "df_encoder=encoder.fit_transform(df[['color']])"
   ]
  },
  {
   "cell_type": "code",
   "execution_count": 8,
   "id": "15c6e285-2d45-4078-80c5-0ad77f60bd76",
   "metadata": {},
   "outputs": [
    {
     "data": {
      "text/plain": [
       "array([[0., 1., 0.],\n",
       "       [1., 0., 0.],\n",
       "       [0., 0., 1.],\n",
       "       [0., 1., 0.],\n",
       "       [0., 0., 1.],\n",
       "       [1., 0., 0.]])"
      ]
     },
     "execution_count": 8,
     "metadata": {},
     "output_type": "execute_result"
    }
   ],
   "source": [
    "df_encoder.toarray()"
   ]
  },
  {
   "cell_type": "code",
   "execution_count": 14,
   "id": "7e39a2a6-9ad2-44be-8967-1098bd21abe0",
   "metadata": {},
   "outputs": [],
   "source": [
    "encoded=pd.DataFrame(df_encoder.toarray(),columns=encoder.get_feature_names_out())"
   ]
  },
  {
   "cell_type": "code",
   "execution_count": null,
   "id": "8cf9a1bc-41ac-4e41-8daa-c12f1dfad678",
   "metadata": {},
   "outputs": [],
   "source": [
    "pd.concat("
   ]
  }
 ],
 "metadata": {
  "kernelspec": {
   "display_name": "Python 3 (ipykernel)",
   "language": "python",
   "name": "python3"
  },
  "language_info": {
   "codemirror_mode": {
    "name": "ipython",
    "version": 3
   },
   "file_extension": ".py",
   "mimetype": "text/x-python",
   "name": "python",
   "nbconvert_exporter": "python",
   "pygments_lexer": "ipython3",
   "version": "3.10.8"
  }
 },
 "nbformat": 4,
 "nbformat_minor": 5
}
